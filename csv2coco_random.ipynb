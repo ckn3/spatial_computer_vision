{
 "cells": [
  {
   "cell_type": "markdown",
   "metadata": {},
   "source": [
    "# csv to coco"
   ]
  },
  {
   "cell_type": "markdown",
   "metadata": {},
   "source": [
    "## Import packages and read the data"
   ]
  },
  {
   "cell_type": "code",
   "execution_count": 1,
   "metadata": {},
   "outputs": [],
   "source": [
    "import csv\n",
    "import json\n",
    "import os\n",
    "import random"
   ]
  },
  {
   "cell_type": "code",
   "execution_count": 2,
   "metadata": {},
   "outputs": [],
   "source": [
    "csv_file_path = 'annotations/tiles_VIA_annotations_800_120.csv'\n",
    "images_folder = 'tiles'"
   ]
  },
  {
   "cell_type": "markdown",
   "metadata": {},
   "source": [
    "## Step 1: Parse the CSV file"
   ]
  },
  {
   "cell_type": "code",
   "execution_count": 3,
   "metadata": {},
   "outputs": [],
   "source": [
    "annotations = []\n",
    "\n",
    "with open(csv_file_path, 'r') as csvfile:\n",
    "    reader = csv.DictReader(csvfile)\n",
    "    for row in reader:\n",
    "        annotations.append(row)"
   ]
  },
  {
   "cell_type": "markdown",
   "metadata": {},
   "source": [
    "## Step 2: Create COCO-format annotations"
   ]
  },
  {
   "cell_type": "code",
   "execution_count": 13,
   "metadata": {},
   "outputs": [],
   "source": [
    "# Group annotations by image\n",
    "annotations_by_image = {}\n",
    "for annotation in annotations:\n",
    "    file_name = annotation['filename']\n",
    "    if file_name not in annotations_by_image:\n",
    "        annotations_by_image[file_name] = []\n",
    "    annotations_by_image[file_name].append(annotation)\n",
    "\n",
    "# Convert image dictionary to a list\n",
    "image_list = list(annotations_by_image.items())\n",
    "\n",
    "# Set random seed and shuffle the image list\n",
    "random.seed(42)\n",
    "random.shuffle(image_list)\n",
    "\n",
    "# Calculate the indices for splitting the dataset\n",
    "train_idx = int(len(image_list) * 0.6)\n",
    "val_idx = int(len(image_list) * 0.8)\n",
    "\n",
    "# Split the shuffled images into train, validation, and test sets\n",
    "train_images = image_list[:train_idx]\n",
    "val_images = image_list[train_idx:val_idx]\n",
    "test_images = image_list[val_idx:]\n",
    "\n",
    "category_set = set()\n",
    "for annotation in annotations:\n",
    "    region_attributes_str = annotation['region_attributes'].strip()\n",
    "    if region_attributes_str:\n",
    "        try:\n",
    "            region_attributes = json.loads(region_attributes_str)\n",
    "            category = list(region_attributes.values())[0]\n",
    "            category_set.add(category)\n",
    "        except json.JSONDecodeError:\n",
    "            print(f\"Error decoding JSON in annotation: {annotation}\")\n",
    "\n",
    "# Function to create a COCO-format dictionary for a given set of images\n",
    "def create_coco_annotations(images):\n",
    "    coco_annotations = {\n",
    "        \"info\": {},\n",
    "        \"licenses\": [],\n",
    "        \"categories\": [],\n",
    "        \"images\": [],\n",
    "        \"annotations\": [],\n",
    "    }\n",
    "\n",
    "    # Add categories to the COCO-format annotations\n",
    "    for category in category_set:\n",
    "        coco_annotations['categories'].append({\n",
    "            \"id\": len(coco_annotations['categories']) + 1,\n",
    "            \"name\": category,\n",
    "            \"supercategory\": None,\n",
    "        })\n",
    "\n",
    "    image_id = 0\n",
    "    annotation_id = 0\n",
    "\n",
    "    for file_name, image_annotations in images:\n",
    "        # Add image metadata to the COCO-format annotations\n",
    "        first_annotation = image_annotations[0]\n",
    "        region_shape_attributes_str = first_annotation['region_shape_attributes'].strip()\n",
    "        if not region_shape_attributes_str:\n",
    "            continue\n",
    "\n",
    "        try:\n",
    "            region_shape_attributes = json.loads(region_shape_attributes_str)\n",
    "        except json.JSONDecodeError:\n",
    "            continue\n",
    "\n",
    "        coco_annotations['images'].append({\n",
    "            \"id\": image_id,\n",
    "            \"width\": region_shape_attributes['width'],\n",
    "            \"height\": region_shape_attributes['height'],\n",
    "            \"file_name\": file_name,\n",
    "            \"license\": None,\n",
    "            \"flickr_url\": None,\n",
    "            \"coco_url\": None,\n",
    "            \"date_captured\": None,\n",
    "        })\n",
    "\n",
    "        for annotation in image_annotations:\n",
    "            # Add the object annotation to the COCO-format annotations\n",
    "            region_shape_attributes_str = annotation['region_shape_attributes'].strip()\n",
    "            region_attributes_str = annotation['region_attributes'].strip()\n",
    "\n",
    "            if not (region_shape_attributes_str and region_attributes_str):\n",
    "                continue\n",
    "\n",
    "            try:\n",
    "                region_shape_attributes = json.loads(region_shape_attributes_str)\n",
    "                region_attributes = json.loads(region_attributes_str)\n",
    "            except json.JSONDecodeError:\n",
    "                continue\n",
    "\n",
    "            category = list(region_attributes.values())[0]\n",
    "            category_id = [cat['id'] for cat in coco_annotations['categories'] if cat['name'] == category][0]\n",
    "\n",
    "            coco_annotations['annotations'].append({\n",
    "                \"id\": annotation_id,\n",
    "                \"image_id\": image_id,\n",
    "                \"category_id\": category_id,\n",
    "                \"segmentation\": [],\n",
    "                \"area\": region_shape_attributes['width'] * region_shape_attributes['height'],\n",
    "                \"bbox\": [\n",
    "                    region_shape_attributes['x'],\n",
    "                    region_shape_attributes['y'],\n",
    "                    region_shape_attributes['width'],\n",
    "                    region_shape_attributes['height']\n",
    "                ],\n",
    "                \"iscrowd\": 0,\n",
    "            })\n",
    "            annotation_id += 1\n",
    "\n",
    "        image_id += 1\n",
    "\n",
    "    return coco_annotations\n",
    "\n",
    "# Create COCO-format annotations for train, validation, and test sets\n",
    "train_coco_annotations = create_coco_annotations(train_images)\n",
    "val_coco_annotations = create_coco_annotations(val_images)\n",
    "test_coco_annotations = create_coco_annotations(test_images)"
   ]
  },
  {
   "cell_type": "markdown",
   "metadata": {},
   "source": [
    "## Step 3: Save the annotations to a JSON file"
   ]
  },
  {
   "cell_type": "code",
   "execution_count": 15,
   "metadata": {},
   "outputs": [],
   "source": [
    "# Save the annotations to JSON files\n",
    "with open('train_annotations_random.json', 'w') as train_outfile:\n",
    "    json.dump(train_coco_annotations, train_outfile)\n",
    "\n",
    "with open('val_annotations_random.json', 'w') as val_outfile:\n",
    "    json.dump(val_coco_annotations, val_outfile)\n",
    "\n",
    "with open('test_annotations_random.json', 'w') as test_outfile:\n",
    "    json.dump(test_coco_annotations, test_outfile)"
   ]
  },
  {
   "cell_type": "markdown",
   "metadata": {},
   "source": [
    "## Step 4: Copy images into three subfolders according to the json files."
   ]
  },
  {
   "cell_type": "code",
   "execution_count": 10,
   "metadata": {},
   "outputs": [],
   "source": [
    "import shutil\n",
    "\n",
    "# Function to copy images to their respective folders\n",
    "def copy_images(images, output_folder):\n",
    "    os.makedirs(output_folder, exist_ok=True)\n",
    "\n",
    "    for file_name, _ in images:\n",
    "        src_path = os.path.join(images_folder, file_name)\n",
    "        dst_path = os.path.join(output_folder, file_name)\n",
    "        shutil.copyfile(src_path, dst_path)\n",
    "\n",
    "# Copy images to train, validation, and test folders\n",
    "copy_images(train_images, 'data/palms/train_random')\n",
    "copy_images(val_images, 'data/palms/val_random')\n",
    "copy_images(test_images, 'data/palms/test_random')"
   ]
  },
  {
   "cell_type": "code",
   "execution_count": null,
   "metadata": {},
   "outputs": [],
   "source": []
  }
 ],
 "metadata": {
  "kernelspec": {
   "display_name": "Python 3",
   "language": "python",
   "name": "python3"
  },
  "language_info": {
   "codemirror_mode": {
    "name": "ipython",
    "version": 3
   },
   "file_extension": ".py",
   "mimetype": "text/x-python",
   "name": "python",
   "nbconvert_exporter": "python",
   "pygments_lexer": "ipython3",
   "version": "3.8.3"
  }
 },
 "nbformat": 4,
 "nbformat_minor": 4
}
